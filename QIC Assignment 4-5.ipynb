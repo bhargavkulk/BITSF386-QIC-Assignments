{
 "cells": [
  {
   "cell_type": "markdown",
   "id": "residential-affiliate",
   "metadata": {},
   "source": [
    "# Iterative Phase Estimation"
   ]
  },
  {
   "cell_type": "code",
   "execution_count": 1,
   "id": "touched-emperor",
   "metadata": {},
   "outputs": [],
   "source": [
    "from qiskit import QuantumCircuit, Aer, assemble, execute\n",
    "from math import pi, sqrt\n",
    "import numpy as np\n",
    "from qiskit.visualization import plot_histogram, plot_bloch_multivector\n",
    "from qiskit.quantum_info import Statevector as sv\n",
    "from qiskit.circuit.library.standard_gates import RZGate\n",
    "import itertools"
   ]
  },
  {
   "cell_type": "code",
   "execution_count": 2,
   "id": "broad-probe",
   "metadata": {},
   "outputs": [],
   "source": [
    "def output_counts(quantum_circuit):\n",
    "    simulator = Aer.get_backend('qasm_simulator')\n",
    "    result = execute(quantum_circuit, simulator).result()\n",
    "    counts = result.get_counts(quantum_circuit)\n",
    "    return counts"
   ]
  },
  {
   "cell_type": "code",
   "execution_count": 3,
   "id": "generic-study",
   "metadata": {},
   "outputs": [],
   "source": [
    "def phase_estimation_iterate(iteration, c_unitary_gate, bits):\n",
    "    iteration_circuit = QuantumCircuit(2, 1)\n",
    "    iteration_circuit.h(0) # generates superposition state in 1st qbit\n",
    "    iteration_circuit.x(1) # generates |1> in 2nd qbit\n",
    "    \n",
    "    factor = 4\n",
    "    correction = 0 # generates the correction fraction depending on pre computed bits\n",
    "    for bit in bits:\n",
    "        correction += bit / factor\n",
    "        factor *= 2\n",
    "    \n",
    "    # generate all the control U gates\n",
    "    n = 2 ** (iteration - 1)\n",
    "    for i in range(int(n)):\n",
    "        c_unitary_gate(iteration_circuit, 0, 1)\n",
    "    \n",
    "    # add the correction\n",
    "    iteration_circuit.rz(- 2 * pi * correction, 0)\n",
    "    \n",
    "    # convert back to computational basis\n",
    "    iteration_circuit.h(0)\n",
    "    \n",
    "    # measure the qbit\n",
    "    iteration_circuit.measure(0, 0)\n",
    "\n",
    "    result = output_counts(iteration_circuit)\n",
    "    \n",
    "    if '0' in result.keys():\n",
    "        bits = [0] + bits\n",
    "    else:\n",
    "        bits = [1] + bits\n",
    "    # last \"iteration\" bits  \n",
    "    return bits"
   ]
  },
  {
   "cell_type": "code",
   "execution_count": 4,
   "id": "neutral-kenya",
   "metadata": {},
   "outputs": [],
   "source": [
    "def cu5piby8(circuit, control, target):\n",
    "    circuit.cp(5 * pi / 8, control, target)"
   ]
  },
  {
   "cell_type": "code",
   "execution_count": 5,
   "id": "greatest-cleaner",
   "metadata": {},
   "outputs": [],
   "source": [
    "def cu5piby4(circuit, control, target):\n",
    "    circuit.cp(5 * pi / 4, control, target)"
   ]
  },
  {
   "cell_type": "code",
   "execution_count": 6,
   "id": "nervous-election",
   "metadata": {},
   "outputs": [],
   "source": [
    "def iterative_phase_estimation(c_unitary_gate, precision):\n",
    "    bits = []\n",
    "    for iteration in range(precision, 0, -1):\n",
    "        bits = phase_estimation_iterate(iteration, c_unitary_gate, bits)\n",
    "    \n",
    "    factor = 2\n",
    "    fraction = 0\n",
    "    for bit in bits:\n",
    "        fraction += bit / factor\n",
    "        factor *= 2\n",
    "    \n",
    "    return \"0.\" + \"\".join(list(map(str, bits))), fraction"
   ]
  },
  {
   "cell_type": "code",
   "execution_count": 7,
   "id": "powered-convergence",
   "metadata": {},
   "outputs": [
    {
     "data": {
      "text/plain": [
       "('0.0101', 0.3125)"
      ]
     },
     "execution_count": 7,
     "metadata": {},
     "output_type": "execute_result"
    }
   ],
   "source": [
    "iterative_phase_estimation(cu5piby8, 4)"
   ]
  },
  {
   "cell_type": "code",
   "execution_count": 8,
   "id": "bright-diesel",
   "metadata": {},
   "outputs": [
    {
     "data": {
      "text/plain": [
       "('0.101', 0.625)"
      ]
     },
     "execution_count": 8,
     "metadata": {},
     "output_type": "execute_result"
    }
   ],
   "source": [
    "iterative_phase_estimation(cu5piby4, 3)"
   ]
  }
 ],
 "metadata": {
  "kernelspec": {
   "display_name": "Python 3",
   "language": "python",
   "name": "python3"
  },
  "language_info": {
   "codemirror_mode": {
    "name": "ipython",
    "version": 3
   },
   "file_extension": ".py",
   "mimetype": "text/x-python",
   "name": "python",
   "nbconvert_exporter": "python",
   "pygments_lexer": "ipython3",
   "version": "3.9.1"
  }
 },
 "nbformat": 4,
 "nbformat_minor": 5
}
