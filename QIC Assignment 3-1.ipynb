{
 "cells": [
  {
   "cell_type": "markdown",
   "id": "subtle-sodium",
   "metadata": {},
   "source": [
    "Implementing circuit 3"
   ]
  },
  {
   "cell_type": "code",
   "execution_count": 1,
   "id": "designing-universe",
   "metadata": {},
   "outputs": [],
   "source": [
    "from qiskit import QuantumCircuit, Aer, assemble\n",
    "from math import pi\n",
    "import numpy as np\n",
    "from qiskit.visualization import plot_histogram, plot_bloch_multivector\n",
    "from qiskit.quantum_info import Statevector as sv\n",
    "import itertools"
   ]
  },
  {
   "cell_type": "code",
   "execution_count": 2,
   "id": "accepted-catering",
   "metadata": {},
   "outputs": [
    {
     "data": {
      "text/plain": [
       "[([1, 0], [1, 0]), ([1, 0], [0, 1]), ([0, 1], [1, 0]), ([0, 1], [0, 1])]"
      ]
     },
     "execution_count": 2,
     "metadata": {},
     "output_type": "execute_result"
    }
   ],
   "source": [
    "one_qbit_basis_states = [[1, 0], [0, 1]]\n",
    "two_qbit_basis_states = list(itertools.product(one_qbit_basis_states, one_qbit_basis_states))\n",
    "two_qbit_basis_states"
   ]
  },
  {
   "cell_type": "markdown",
   "id": "modified-driver",
   "metadata": {},
   "source": [
    "Circuit 1:"
   ]
  },
  {
   "cell_type": "code",
   "execution_count": 3,
   "id": "successful-actor",
   "metadata": {},
   "outputs": [
    {
     "data": {
      "image/png": "[encoded data removed]",
      "text/plain": [
       "<Figure size 206.852x144.48 with 1 Axes>"
      ]
     },
     "execution_count": 3,
     "metadata": {},
     "output_type": "execute_result"
    }
   ],
   "source": [
    "qc1 = QuantumCircuit(2)\n",
    "qc1.z(0)\n",
    "qc1.z(1)\n",
    "qc1.cx(1, 0)\n",
    "qc1.draw(\"mpl\")"
   ]
  },
  {
   "cell_type": "markdown",
   "id": "suspended-toyota",
   "metadata": {},
   "source": [
    "Circuit 2:"
   ]
  },
  {
   "cell_type": "code",
   "execution_count": 4,
   "id": "concerned-packet",
   "metadata": {},
   "outputs": [
    {
     "data": {
      "image/png": "[encoded data removed]",
      "text/plain": [
       "<Figure size 206.852x144.48 with 1 Axes>"
      ]
     },
     "execution_count": 4,
     "metadata": {},
     "output_type": "execute_result"
    }
   ],
   "source": [
    "qc2 = QuantumCircuit(2)\n",
    "qc2.cx(1, 0)\n",
    "qc2.z(1)\n",
    "qc2.draw(\"mpl\")"
   ]
  },
  {
   "cell_type": "code",
   "execution_count": 5,
   "id": "static-burns",
   "metadata": {},
   "outputs": [
    {
     "name": "stdout",
     "output_type": "stream",
     "text": [
      "[1.+0.j 0.+0.j 0.+0.j 0.+0.j] [1.+0.j 0.+0.j 0.+0.j 0.+0.j] [ True  True  True  True]\n",
      "[0.+0.j 0.+0.j 1.+0.j 0.+0.j] [0.+0.j 0.+0.j 1.+0.j 0.+0.j] [ True  True  True  True]\n",
      "[0.+0.j 1.+0.j 0.+0.j 0.+0.j] [0.+0.j 1.+0.j 0.+0.j 0.+0.j] [ True  True  True  True]\n",
      "[0.+0.j 0.+0.j 0.+0.j 1.+0.j] [0.+0.j 0.+0.j 0.+0.j 1.+0.j] [ True  True  True  True]\n"
     ]
    }
   ],
   "source": [
    "for two_qbit_state in two_qbit_basis_states:\n",
    "    qc1.initialize(two_qbit_state[0], 0)\n",
    "    qc1.initialize(two_qbit_state[1], 1)\n",
    "    qc2.initialize(two_qbit_state[0], 0)\n",
    "    qc2.initialize(two_qbit_state[1], 1)\n",
    "    qobj1 = assemble(qc1)\n",
    "    qobj2 = assemble(qc2)\n",
    "    svsim = Aer.get_backend('statevector_simulator')\n",
    "    out_vector1 = svsim.run(qobj1).result().get_statevector()\n",
    "    out_vector2 = svsim.run(qobj2).result().get_statevector()\n",
    "    print(out_vector1, out_vector2, end = ' ')\n",
    "    print(out_vector1 == out_vector2)"
   ]
  },
  {
   "cell_type": "markdown",
   "id": "changed-mauritius",
   "metadata": {},
   "source": [
    "All the output vectors are equal for each 2-bit basis state input"
   ]
  }
 ],
 "metadata": {
  "kernelspec": {
   "display_name": "Python 3",
   "language": "python",
   "name": "python3"
  },
  "language_info": {
   "codemirror_mode": {
    "name": "ipython",
    "version": 3
   },
   "file_extension": ".py",
   "mimetype": "text/x-python",
   "name": "python",
   "nbconvert_exporter": "python",
   "pygments_lexer": "ipython3",
   "version": "3.9.1"
  }
 },
 "nbformat": 4,
 "nbformat_minor": 5
}
