{
 "cells": [
  {
   "cell_type": "markdown",
   "id": "actual-double",
   "metadata": {},
   "source": [
    "## C-C-Not Gate"
   ]
  },
  {
   "cell_type": "code",
   "execution_count": 92,
   "id": "metallic-crawford",
   "metadata": {},
   "outputs": [],
   "source": [
    "from qiskit import QuantumCircuit, Aer, assemble, execute\n",
    "from math import pi\n",
    "import numpy as np\n",
    "from qiskit.visualization import plot_histogram, plot_bloch_multivector\n",
    "from qiskit.quantum_info import Statevector as sv\n",
    "from qiskit.circuit.library.standard_gates import RXGate\n",
    "import itertools"
   ]
  },
  {
   "cell_type": "code",
   "execution_count": 93,
   "id": "circular-provider",
   "metadata": {},
   "outputs": [],
   "source": [
    "def output_counts(quantum_circuit):\n",
    "    simulator = Aer.get_backend('qasm_simulator')\n",
    "    result = execute(circ, simulator).result()\n",
    "    counts = result.get_counts(quantum_circuit)\n",
    "    return counts"
   ]
  },
  {
   "cell_type": "code",
   "execution_count": 94,
   "id": "electronic-glass",
   "metadata": {},
   "outputs": [],
   "source": [
    "def basis_to_bits(basis):\n",
    "    if basis == [1, 0]:\n",
    "        return \"0\"\n",
    "    else:\n",
    "        return \"1\""
   ]
  },
  {
   "cell_type": "code",
   "execution_count": 95,
   "id": "harmful-phrase",
   "metadata": {},
   "outputs": [],
   "source": [
    "BASIS_0 = [1, 0]\n",
    "BASIS_1 = [0, 1]\n",
    "Z_BASES_1_QBIT = [BASIS_0, BASIS_1]\n",
    "Z_BASES_3_QBIT = list(itertools.product(Z_BASES_1_QBIT, Z_BASES_1_QBIT, Z_BASES_1_QBIT))"
   ]
  },
  {
   "cell_type": "markdown",
   "id": "great-image",
   "metadata": {},
   "source": [
    "Because $X$ is a rotation of $\\pi$ around the X axis, $\\sqrt{X}$ is a rotation of $\\frac{\\pi}{2}$ around the X axis and $\\sqrt{X}^\\dagger$ is a rotation of $-\\frac{\\pi}{2}$ around the X axis."
   ]
  },
  {
   "cell_type": "code",
   "execution_count": 96,
   "id": "fresh-family",
   "metadata": {},
   "outputs": [],
   "source": [
    "def quantum_ccnot_gate(C1, C2, T):\n",
    "    q_ccnot_gate = QuantumCircuit(3, 3)\n",
    "    q_ccnot_gate.initialize(C1, 0)\n",
    "    q_ccnot_gate.initialize(C2, 1)\n",
    "    q_ccnot_gate.initialize(T, 2)\n",
    "    q_ccnot_gate.crx(pi/2, 1, 2)\n",
    "    q_ccnot_gate.cx(0, 1)\n",
    "    q_ccnot_gate.crx(-pi/2, 1, 2)\n",
    "    q_ccnot_gate.cx(0, 1)\n",
    "    q_ccnot_gate.crx(pi/2, 0, 2)\n",
    "    q_ccnot_gate.measure(0, 2)\n",
    "    q_ccnot_gate.measure(1, 1)\n",
    "    q_ccnot_gate.measure(2, 0)\n",
    "    return q_ccnot_gate"
   ]
  },
  {
   "cell_type": "code",
   "execution_count": 104,
   "id": "guilty-indonesia",
   "metadata": {},
   "outputs": [
    {
     "name": "stdout",
     "output_type": "stream",
     "text": [
      "|ABC⟩ -> |ABC'⟩\n",
      "|000⟩ -> |000⟩\n",
      "|001⟩ -> |001⟩\n",
      "|010⟩ -> |010⟩\n",
      "|011⟩ -> |011⟩\n",
      "|100⟩ -> |100⟩\n",
      "|101⟩ -> |101⟩\n",
      "|110⟩ -> |111⟩\n",
      "|111⟩ -> |110⟩\n"
     ]
    }
   ],
   "source": [
    "print(\"|ABC⟩ -> |ABC'⟩\")\n",
    "for BASIS_2_QBIT in Z_BASES_3_QBIT:\n",
    "    circ = quantum_ccnot_gate(BASIS_2_QBIT[0], BASIS_2_QBIT[1], BASIS_2_QBIT[2])\n",
    "    counts = output_counts(circ)\n",
    "    output = \"|\" + basis_to_bits(BASIS_2_QBIT[0])\n",
    "    output += basis_to_bits(BASIS_2_QBIT[1]) + basis_to_bits(BASIS_2_QBIT[2]) + \"⟩ -> \"\n",
    "    output += f\"|{list(counts.keys())[0]}⟩\"\n",
    "    print(output)"
   ]
  }
 ],
 "metadata": {
  "kernelspec": {
   "display_name": "Python 3",
   "language": "python",
   "name": "python3"
  },
  "language_info": {
   "codemirror_mode": {
    "name": "ipython",
    "version": 3
   },
   "file_extension": ".py",
   "mimetype": "text/x-python",
   "name": "python",
   "nbconvert_exporter": "python",
   "pygments_lexer": "ipython3",
   "version": "3.9.1"
  }
 },
 "nbformat": 4,
 "nbformat_minor": 5
}
